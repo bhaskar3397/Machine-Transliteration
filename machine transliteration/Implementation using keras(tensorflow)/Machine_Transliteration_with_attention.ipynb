{
 "cells": [
  {
   "cell_type": "markdown",
   "metadata": {
    "id": "Hw3jvZjXK6fz"
   },
   "source": [
    "# **Machine Transliteration**"
   ]
  },
  {
   "cell_type": "code",
   "execution_count": null,
   "metadata": {
    "id": "L4sOq5lGKyly"
   },
   "outputs": [],
   "source": [
    "from tensorflow.keras.models import Model\n",
    "from keras.layers import Input, LSTM, Dense, Embedding, \\\n",
    "  Bidirectional, RepeatVector, Concatenate, Activation, Dot, Lambda\n",
    "import numpy as np\n",
    "import keras.backend as K\n",
    "\n",
    "batch_size = 64 # Batch size for Training\n",
    "epochs = 100 # Number of epochs to train for\n",
    "latent_dim = 256 #Latent dimentionality of the encoding space\n",
    "num_sample = 15000 # Number of samples to train\n",
    "#here change the path accordingly\n",
    "data_path = 'crowd_transliterations.hi-en.txt'"
   ]
  },
  {
   "cell_type": "code",
   "execution_count": null,
   "metadata": {
    "id": "xcrWeE5mY6Wx"
   },
   "outputs": [],
   "source": [
    "#preprocessing or cleaning of data\n",
    "\n",
    "def preprocess_sentence_english(w):\n",
    "  for ch in w:\n",
    "    if((ch >= 'a' and ch <= 'z') or (ch >= 'A' and ch <= 'Z')):\n",
    "      {}\n",
    "    else:\n",
    "      return 'false'\n",
    "  return 'true'\n",
    "def preprocess_sentence_hindi(w):\n",
    "  for ch in w:\n",
    "    if((ch == '-') or (ch == ',') or (ch >= 'a' and ch <= 'z') or (ch >= 'A' and ch <= 'Z') or (ch >= '0' and ch <= '9')):\n",
    "      return 'false'\n",
    "  return 'true'"
   ]
  },
  {
   "cell_type": "code",
   "execution_count": null,
   "metadata": {
    "id": "ha5Nl9tfM3hE"
   },
   "outputs": [],
   "source": [
    "# vectorize the data \n",
    "\n",
    "input_texts = [] # english list\n",
    "target_texts = [] # Hindi list\n",
    "input_characters = set() #distinct input characters\n",
    "target_characters = set() #distinct output characters\n",
    "with open(data_path, 'r', encoding='utf-8') as f:\n",
    "  lines = f.read().split('\\n')\n",
    "for line in lines[:len(lines)-1]:\n",
    "  input_text,target_text = line.split('\\t');\n",
    "  res = preprocess_sentence_english(input_text);\n",
    "  if(res == 'false'):\n",
    "    continue\n",
    "  res = preprocess_sentence_hindi(target_text);  \n",
    "  if(res == 'false'):\n",
    "    continue\n",
    "\n",
    "  target_text = '\\t' + target_text + '\\n'\n",
    "  input_texts.append(input_text);\n",
    "  target_texts.append(target_text)\n",
    "  for char in input_text:\n",
    "    if char not in input_characters:\n",
    "      input_characters.add(char);\n",
    "  for char in target_text:\n",
    "    if char not in target_characters:\n",
    "      target_characters.add(char);"
   ]
  },
  {
   "cell_type": "code",
   "execution_count": null,
   "metadata": {
    "id": "FSaUKS_3gRnQ"
   },
   "outputs": [],
   "source": [
    "input_characters = sorted(list(input_characters));\n",
    "target_characters = sorted(list(target_characters));\n",
    "\n",
    "#required for the creation of 3D arrays for LSTM\n",
    "num_encoder_tokens = len(input_characters)\n",
    "print(num_encoder_tokens);\n",
    "num_decoder_tokens = len(target_characters)\n",
    "print(num_decoder_tokens);\n",
    "max_encoder_seq_length = max([len(word) for word in input_texts])\n",
    "print(max_encoder_seq_length);\n",
    "max_decoder_seq_length = max([len(word) for word in target_texts])\n",
    "print(max_decoder_seq_length);"
   ]
  },
  {
   "cell_type": "code",
   "execution_count": null,
   "metadata": {
    "id": "y_Pi8_C9iItQ"
   },
   "outputs": [],
   "source": [
    "# here we are providing the index to the input tokens and target tokens\n",
    "input_token_index = dict([(char, i) for i, char in enumerate(input_characters)])\n",
    "target_token_index = dict([(char, i) for i, char in enumerate(target_characters)])"
   ]
  },
  {
   "cell_type": "code",
   "execution_count": null,
   "metadata": {
    "id": "4O2NeuuWizqO"
   },
   "outputs": [],
   "source": [
    "# initialize arrays with all zeroes to store one hot representation\n",
    "encoder_input_data = np.zeros((len(input_texts), max_encoder_seq_length, num_encoder_tokens), dtype = 'float32')\n",
    "decoder_input_data = np.zeros((len(input_texts), max_decoder_seq_length, num_decoder_tokens), dtype = 'float32')\n",
    "decoder_target_data = np.zeros((len(input_texts), max_decoder_seq_length, num_decoder_tokens), dtype = 'float32')"
   ]
  },
  {
   "cell_type": "code",
   "execution_count": null,
   "metadata": {
    "id": "nVvxgGFJm6cK"
   },
   "outputs": [],
   "source": [
    "# create one hot representation\n",
    "for i, (ip_text, tar_text) in enumerate(zip(input_texts, target_texts)):\n",
    "  for t, char in enumerate(ip_text):\n",
    "    encoder_input_data[i, t, input_token_index[char]] = 1.\n",
    "  \n",
    "  for t, char in enumerate(tar_text):\n",
    "    decoder_input_data[i, t, target_token_index[char]] = 1.\n",
    "    if t > 0:\n",
    "      decoder_target_data[i, t-1, target_token_index[char]] = 1."
   ]
  },
  {
   "cell_type": "code",
   "execution_count": null,
   "metadata": {
    "id": "frERKrUPEGQE"
   },
   "outputs": [],
   "source": [
    "# encoder LSTM's\n",
    "encoder_inputs = Input(shape=(max_encoder_seq_length, num_encoder_tokens))\n",
    "encoder = Bidirectional(LSTM(latent_dim, return_sequences= True))\n",
    "encoder_outputs = encoder(encoder_inputs)\n",
    "print(encoder_outputs)\n",
    "#encoder_states = [state_h, state_c] #because we did not required intermediate encoder outputs"
   ]
  },
  {
   "cell_type": "code",
   "execution_count": null,
   "metadata": {
    "id": "HotOUZBVN0x_"
   },
   "outputs": [],
   "source": [
    "# decoder LSTM's\n",
    "decoder_inputs = Input(shape=(max_decoder_seq_length, num_decoder_tokens))"
   ]
  },
  {
   "cell_type": "code",
   "execution_count": null,
   "metadata": {
    "id": "gRKtt_O2MH0Q"
   },
   "outputs": [],
   "source": [
    "######### Attention #########\n",
    "# Attention layers need to be global because\n",
    "# they will be repeated Ty times at the decoder\n",
    "attn_repeat_layer = RepeatVector(max_encoder_seq_length)\n",
    "attn_concat_layer = Concatenate(axis=-1)\n",
    "attn_dense1 = Dense(10, activation='tanh')\n",
    "attn_dense2 = Dense(1, activation='softmax')\n",
    "attn_dot = Dot(axes=1) # to perform the weighted sum of alpha[t] * h[t]\n",
    "\n",
    "def one_step_attention(h, st_1):\n",
    "  # h = h(1), ..., h(Tx), shape = (Tx, LATENT_DIM * 2)\n",
    "  # st_1 = s(t-1), shape = (LATENT_DIM_DECODER,)\n",
    "  # copy s(t-1) Tx times\n",
    "  # now shape = (Tx, LATENT_DIM_DECODER)\n",
    "  st_1 = attn_repeat_layer(st_1)\n",
    "  # Concatenate all h(t)'s with s(t-1)\n",
    "  # Now of shape (Tx, LATENT_DIM_DECODER + LATENT_DIM * 2)\n",
    "  x = attn_concat_layer([h, st_1])\n",
    "  # Neural net first layer\n",
    "  x = attn_dense1(x)\n",
    "\n",
    "  # Neural net second layer with special softmax over time\n",
    "  alphas = attn_dense2(x)\n",
    "  # \"Dot\" the alphas and the h's\n",
    "  # Remember a.dot(b) = sum over a[t] * b[t]\n",
    "  context = attn_dot([alphas, h])\n",
    "  return context"
   ]
  },
  {
   "cell_type": "code",
   "execution_count": null,
   "metadata": {
    "id": "oZxlmZLXh6Sw"
   },
   "outputs": [],
   "source": [
    "decoder_lstm = LSTM(latent_dim, return_state=True)\n",
    "#decoder_outputs, _, _ = decoder_lstm(decoder_inputs, initial_state = encoder_states)\n",
    "decoder_dense = Dense(num_decoder_tokens, activation='softmax')\n",
    "initial_s = Input(shape=(latent_dim,), name='s0')\n",
    "initial_c = Input(shape=(latent_dim,), name='c0')\n",
    "context_last_word_concat_layer = Concatenate(axis=2)\n",
    "\n",
    "# s, c will be re-assigned in each iteration of the loop\n",
    "s = initial_s\n",
    "c = initial_c"
   ]
  },
  {
   "cell_type": "code",
   "execution_count": null,
   "metadata": {
    "id": "jTn9482o1eiI"
   },
   "outputs": [],
   "source": [
    "# collect outputs in a list at first\n",
    "outputs = []\n",
    "for t in range(max_decoder_seq_length): # Ty times\n",
    "  # get the context using attention\n",
    "  context = one_step_attention(encoder_outputs, s)\n",
    "  # we need a different layer for each time step\n",
    "  selector = Lambda(lambda x: x[:, t:t+1])\n",
    "  xt = selector(decoder_inputs)\n",
    "  \n",
    "  # combine \n",
    "  decoder_lstm_input = context_last_word_concat_layer([context, xt])\n",
    "\n",
    "  # pass the combined [context, last word] into the LSTM\n",
    "  # along with [s, c]\n",
    "  # get the new [s, c] and output\n",
    "  o, s, c = decoder_lstm(decoder_lstm_input, initial_state=[s, c])\n",
    "\n",
    "  # final dense layer to get next word prediction\n",
    "  decoder_outputs = decoder_dense(o)\n",
    "  outputs.append(decoder_outputs)\n",
    "\n",
    "#decoder_outputs = decoder_dense(decoder_outputs)"
   ]
  },
  {
   "cell_type": "code",
   "execution_count": null,
   "metadata": {
    "id": "lziSqX05OgE7"
   },
   "outputs": [],
   "source": [
    "def stack_and_transpose(x):\n",
    "  # x is a list of length T, each element is a batch_size x output_vocab_size tensor\n",
    "  x = K.stack(x) # is now T x batch_size x output_vocab_size tensor\n",
    "  x = K.permute_dimensions(x, pattern=(1, 0, 2)) # is now batch_size x T x output_vocab_size\n",
    "  return x\n",
    "\n",
    "# make it a layer\n",
    "stacker = Lambda(stack_and_transpose)\n",
    "outputs = stacker(outputs)"
   ]
  },
  {
   "cell_type": "code",
   "execution_count": null,
   "metadata": {
    "id": "f0l8Ehtx4A1N"
   },
   "outputs": [],
   "source": [
    "# model formation\n",
    "model = Model(inputs = [encoder_inputs, decoder_inputs, initial_s, initial_c], outputs = outputs)\n",
    "\n",
    "model.compile(optimizer='rmsprop', loss='categorical_crossentropy', metrics=['accuracy'])\n",
    "\n",
    "z = np.zeros((len(input_texts), latent_dim))\n",
    "r = model.fit([encoder_input_data, decoder_input_data,z,z], decoder_target_data,\n",
    "          batch_size = batch_size, \n",
    "          epochs=epochs, \n",
    "          validation_split=0.2)"
   ]
  },
  {
   "cell_type": "code",
   "execution_count": null,
   "metadata": {
    "id": "NdLEdzcXUa9_"
   },
   "outputs": [],
   "source": [
    "import matplotlib.pyplot as plt\n",
    "\n",
    "# plot some data\n",
    "plt.plot(r.history['loss'], label='loss')\n",
    "plt.plot(r.history['val_loss'], label='val_loss')\n",
    "plt.legend()\n",
    "plt.show()\n",
    "\n",
    "# accuracies\n",
    "plt.plot(r.history['accuracy'], label='acc')\n",
    "plt.plot(r.history['val_accuracy'], label='val_acc')\n",
    "plt.legend()\n",
    "plt.show()"
   ]
  },
  {
   "cell_type": "code",
   "execution_count": null,
   "metadata": {
    "id": "D2N8Bd25lDzj"
   },
   "outputs": [],
   "source": [
    "#creation of encoder model and decoder model \n",
    "\n",
    "encoder_model = Model(encoder_inputs, encoder_outputs)\n",
    "\n",
    "encoder_outputs_as_input = Input(shape=(max_encoder_seq_length, latent_dim*2,))\n",
    "\n",
    "decoder_inputs_single = Input(shape=(1,num_decoder_tokens))\n",
    "print(decoder_inputs_single)\n",
    "\n",
    "context = one_step_attention(encoder_outputs_as_input, initial_s)\n",
    "# combine context with last word\n",
    "decoder_lstm_input = context_last_word_concat_layer([context, decoder_inputs_single])\n",
    "\n",
    "print(decoder_lstm_input)\n",
    "# lstm and final dense\n",
    "o, s, c = decoder_lstm(decoder_lstm_input, initial_state=[initial_s, initial_c])\n",
    "decoder_outputs = decoder_dense(o)\n",
    "\n",
    "# create the model object\n",
    "decoder_model = Model(\n",
    "  inputs=[\n",
    "    decoder_inputs_single,\n",
    "    encoder_outputs_as_input,\n",
    "    initial_s, \n",
    "    initial_c\n",
    "  ],\n",
    "  outputs=[decoder_outputs, s, c]\n",
    ")\n",
    "\n",
    "#reverse indexing in order to predicr output\n",
    "reverse_input_char_index = dict((i, char) for char,i in input_token_index.items())\n",
    "reverse_target_char_index = dict((i, char) for char,i in target_token_index.items())"
   ]
  },
  {
   "cell_type": "code",
   "execution_count": null,
   "metadata": {
    "id": "h5nd8bWXW1yz"
   },
   "outputs": [],
   "source": [
    "def decode_sequence(input_seq):\n",
    "    # Encode the input as state vectors.\n",
    "    enc_out = encoder_model.predict(input_seq)\n",
    "    # Generate empty target sequence of length 1.\n",
    "    target_seq = np.zeros((1, 1, num_decoder_tokens))\n",
    "    # Populate the first character of target sequence with the start character.\n",
    "    target_seq[0, 0, target_token_index['\\t']] = 1.\n",
    "    s = np.zeros((1, latent_dim))\n",
    "    c = np.zeros((1, latent_dim))\n",
    "\n",
    "    # Sampling loop for a batch of sequences\n",
    "    # (to simplify, here we assume a batch of size 1).\n",
    "    stop_condition = False\n",
    "    decoded_sentence = ''\n",
    "    while not stop_condition:\n",
    "        o, s, c = decoder_model.predict([target_seq, enc_out, s, c])\n",
    "        # Sample a token\n",
    "        sampled_token_index = np.argmax(o.flatten())\n",
    "        sampled_char = reverse_target_char_index[sampled_token_index]\n",
    "        decoded_sentence += sampled_char\n",
    "        # Exit condition: either hit max length\n",
    "        # or find stop character.\n",
    "        if (sampled_char == '\\n' or len(decoded_sentence) > max_decoder_seq_length):\n",
    "            stop_condition = True\n",
    "        # Update the target sequence (of length 1).\n",
    "        target_seq = np.zeros((1, 1, num_decoder_tokens))\n",
    "        target_seq[0, 0, sampled_token_index] = 1.\n",
    "\n",
    "    return decoded_sentence"
   ]
  },
  {
   "cell_type": "code",
   "execution_count": null,
   "metadata": {
    "id": "4ld3RCYCW5pZ"
   },
   "outputs": [],
   "source": [
    "# Testing\n",
    "for seq_index in range(100):\n",
    "  input_seq = encoder_input_data[seq_index: seq_index+1]\n",
    "  decoded_word = decode_sequence(input_seq)\n",
    "  print('Input word : ', input_texts[seq_index])\n",
    "  print('Output word : ', decoded_word);"
   ]
  },
  {
   "cell_type": "code",
   "execution_count": null,
   "metadata": {
    "id": "LtkcdeffPmtu"
   },
   "outputs": [],
   "source": [
    "# user input\n",
    "user_In = input(\"enter input : \")\n",
    "inp = np.zeros((1,max_encoder_seq_length, num_encoder_tokens), dtype = 'float32')\n",
    "for t, char in enumerate(user_In):\n",
    "  inp[0,t, input_token_index[char]] = 1.\n",
    "decoded_word = decode_sequence(inp)\n",
    "print('Input word : ', user_In)\n",
    "print('Output word : ', decoded_word)"
   ]
  }
 ],
 "metadata": {
  "colab": {
   "name": "Attention_Machine_Transliteration.ipynb",
   "private_outputs": true,
   "provenance": [],
   "collapsed_sections": []
  },
  "kernelspec": {
   "name": "python3",
   "display_name": "Python 3"
  },
  "accelerator": "GPU"
 },
 "nbformat": 4,
 "nbformat_minor": 0
}