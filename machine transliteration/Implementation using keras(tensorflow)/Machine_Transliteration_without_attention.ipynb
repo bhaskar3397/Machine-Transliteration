{
 "cells": [
  {
   "cell_type": "markdown",
   "metadata": {
    "id": "Hw3jvZjXK6fz"
   },
   "source": [
    "# **Machine Transliteration**"
   ]
  },
  {
   "cell_type": "code",
   "execution_count": null,
   "metadata": {
    "id": "L4sOq5lGKyly"
   },
   "outputs": [],
   "source": [
    "from tensorflow.keras.models import Model\n",
    "from tensorflow.keras.layers import Input, LSTM, Dense\n",
    "import numpy as np\n",
    "\n",
    "batch_size = 64 # Batch size for Training\n",
    "epochs = 100 # Number of epochs to train for\n",
    "latent_dim = 256 #Latent dimentionality of the encoding space\n",
    "num_sample = 15000 # Number of samples to train\n",
    "#here change the path accordingly\n",
    "data_path = 'crowd_transliterations.hi-en.txt'"
   ]
  },
  {
   "cell_type": "code",
   "execution_count": null,
   "metadata": {
    "id": "xcrWeE5mY6Wx"
   },
   "outputs": [],
   "source": [
    "#preprocessing or cleaning of data\n",
    "\n",
    "def preprocess_sentence_english(w):\n",
    "  for ch in w:\n",
    "    if((ch >= 'a' and ch <= 'z') or (ch >= 'A' and ch <= 'Z')):\n",
    "      {}\n",
    "    else:\n",
    "      return 'false'\n",
    "  return 'true'"
   ]
  },
  {
   "cell_type": "code",
   "execution_count": null,
   "metadata": {
    "id": "ha5Nl9tfM3hE"
   },
   "outputs": [],
   "source": [
    "# vectorize the data \n",
    "\n",
    "input_texts = [] # english list\n",
    "target_texts = [] # Hindi list\n",
    "input_characters = set() #distinct input characters\n",
    "target_characters = set() #distinct output characters\n",
    "with open(data_path, 'r', encoding='utf-8') as f:\n",
    "  lines = f.read().split('\\n')\n",
    "for line in lines[:len(lines)-1]:\n",
    "  input_text,target_text = line.split('\\t');\n",
    "  res = preprocess_sentence_english(input_text);\n",
    "  if(res == 'false'):\n",
    "    continue\n",
    "\n",
    "  target_text = '\\t' + target_text + '\\n'\n",
    "  input_texts.append(input_text);\n",
    "  target_texts.append(target_text)\n",
    "  for char in input_text:\n",
    "    if char not in input_characters:\n",
    "      input_characters.add(char);\n",
    "  for char in target_text:\n",
    "    if char not in target_characters:\n",
    "      target_characters.add(char);"
   ]
  },
  {
   "cell_type": "code",
   "execution_count": null,
   "metadata": {
    "id": "FSaUKS_3gRnQ"
   },
   "outputs": [],
   "source": [
    "input_characters = sorted(list(input_characters));\n",
    "target_characters = sorted(list(target_characters));\n",
    "\n",
    "#required for the creation of 3D arrays for LSTM\n",
    "num_encoder_tokens = len(input_characters)\n",
    "print(num_encoder_tokens);\n",
    "num_decoder_tokens = len(target_characters)\n",
    "print(num_decoder_tokens);\n",
    "max_encoder_seq_length = max([len(word) for word in input_texts])\n",
    "print(max_encoder_seq_length);\n",
    "max_decoder_seq_length = max([len(word) for word in target_texts])\n",
    "print(max_decoder_seq_length);"
   ]
  },
  {
   "cell_type": "code",
   "execution_count": null,
   "metadata": {
    "id": "y_Pi8_C9iItQ"
   },
   "outputs": [],
   "source": [
    "# here we are providing the index to the input tokens and target tokens\n",
    "input_token_index = dict([(char, i) for i, char in enumerate(input_characters)])\n",
    "target_token_index = dict([(char, i) for i, char in enumerate(target_characters)])"
   ]
  },
  {
   "cell_type": "code",
   "execution_count": null,
   "metadata": {
    "id": "4O2NeuuWizqO"
   },
   "outputs": [],
   "source": [
    "# initialize arrays with all zeroes to store one hot representation\n",
    "encoder_input_data = np.zeros((len(input_texts), max_encoder_seq_length, num_encoder_tokens), dtype = 'float32')\n",
    "decoder_input_data = np.zeros((len(input_texts), max_decoder_seq_length, num_decoder_tokens), dtype = 'float32')\n",
    "decoder_target_data = np.zeros((len(input_texts), max_decoder_seq_length, num_decoder_tokens), dtype = 'float32')"
   ]
  },
  {
   "cell_type": "code",
   "execution_count": null,
   "metadata": {
    "id": "nVvxgGFJm6cK"
   },
   "outputs": [],
   "source": [
    "# create one hot representation\n",
    "    for i, (ip_text, tar_text) in enumerate(zip(input_texts, target_texts)):\n",
    "      for t, char in enumerate(ip_text):\n",
    "        encoder_input_data[i, t, input_token_index[char]] = 1.\n",
    "      \n",
    "      for t, char in enumerate(tar_text):\n",
    "        decoder_input_data[i, t, target_token_index[char]] = 1.\n",
    "        if t > 0:\n",
    "          decoder_target_data[i, t-1, target_token_index[char]] = 1."
   ]
  },
  {
   "cell_type": "code",
   "execution_count": null,
   "metadata": {
    "id": "frERKrUPEGQE"
   },
   "outputs": [],
   "source": [
    "# encoder LSTM's\n",
    "encoder_inputs = Input(shape=(None, num_encoder_tokens))\n",
    "encoder = LSTM(latent_dim, return_state = True)\n",
    "encoder_outputs, state_h, state_c = encoder(encoder_inputs)\n",
    "encoder_states = [state_h, state_c] #because we did not required intermediate encoder outputs"
   ]
  },
  {
   "cell_type": "code",
   "execution_count": null,
   "metadata": {
    "id": "jTn9482o1eiI"
   },
   "outputs": [],
   "source": [
    "# decoder LSTM's\n",
    "decoder_inputs = Input(shape=(None, num_decoder_tokens))\n",
    "decoder_lstm = LSTM(latent_dim, return_sequences=True, return_state=True)\n",
    "decoder_outputs, _, _ = decoder_lstm(decoder_inputs, initial_state = encoder_states)\n",
    "decoder_dense = Dense(num_decoder_tokens, activation='softmax')\n",
    "decoder_outputs = decoder_dense(decoder_outputs)"
   ]
  },
  {
   "cell_type": "code",
   "execution_count": null,
   "metadata": {
    "id": "f0l8Ehtx4A1N"
   },
   "outputs": [],
   "source": [
    "# model formation\n",
    "model = Model([encoder_inputs, decoder_inputs], decoder_outputs)\n",
    "\n",
    "model.compile(optimizer='rmsprop', loss='categorical_crossentropy', metrics=['accuracy'])\n",
    "r = model.fit([encoder_input_data, decoder_input_data], decoder_target_data,\n",
    "          batch_size = batch_size, \n",
    "          epochs=epochs, \n",
    "          validation_split=0.2)"
   ]
  },
  {
   "cell_type": "code",
   "execution_count": null,
   "metadata": {
    "id": "iCkkt_DrS9Ji"
   },
   "outputs": [],
   "source": [
    "import matplotlib.pyplot as plt\n",
    "\n",
    "# plot some data\n",
    "plt.plot(r.history['loss'], label='loss')\n",
    "plt.plot(r.history['val_loss'], label='val_loss')\n",
    "plt.legend()\n",
    "plt.show()\n",
    "\n",
    "# accuracies\n",
    "plt.plot(r.history['accuracy'], label='acc')\n",
    "plt.plot(r.history['val_accuracy'], label='val_acc')\n",
    "plt.legend()\n",
    "plt.show()"
   ]
  },
  {
   "cell_type": "code",
   "execution_count": null,
   "metadata": {
    "id": "D2N8Bd25lDzj"
   },
   "outputs": [],
   "source": [
    "#creation of encoder model and decoder model \n",
    "\n",
    "encoder_model = Model(encoder_inputs, encoder_states)\n",
    "\n",
    "decoder_state_input_h = Input(shape=(latent_dim,)) #decoders hidden state\n",
    "decoder_state_input_c = Input(shape=(latent_dim,)) #decoders cell state\n",
    "decoder_states_inputs = [decoder_state_input_h, decoder_state_input_c]\n",
    "decoder_outputs, state_h, state_c = decoder_lstm(\n",
    "    decoder_inputs, initial_state=decoder_states_inputs)\n",
    "decoder_states = [state_h, state_c]\n",
    "decoder_outputs = decoder_dense(decoder_outputs)\n",
    "decoder_model = Model(\n",
    "    [decoder_inputs] + decoder_states_inputs,\n",
    "    [decoder_outputs] + decoder_states)\n",
    "\n",
    "#reverse indexing in order to predicr output\n",
    "reverse_input_char_index = dict((i, char) for char,i in input_token_index.items())\n",
    "reverse_target_char_index = dict((i, char) for char,i in target_token_index.items())"
   ]
  },
  {
   "cell_type": "code",
   "execution_count": null,
   "metadata": {
    "id": "h5nd8bWXW1yz"
   },
   "outputs": [],
   "source": [
    "def decode_sequence(input_seq):\n",
    "    # Encode the input as state vectors.\n",
    "    states_value = encoder_model.predict(input_seq)\n",
    "\n",
    "    # Generate empty target sequence of length 1.\n",
    "    target_seq = np.zeros((1, 1, num_decoder_tokens))\n",
    "    # Populate the first character of target sequence with the start character.\n",
    "    target_seq[0, 0, target_token_index['\\t']] = 1.\n",
    "\n",
    "    # Sampling loop for a batch of sequences\n",
    "    # (to simplify, here we assume a batch of size 1).\n",
    "    stop_condition = False\n",
    "    decoded_sentence = ''\n",
    "    while not stop_condition:\n",
    "        output_tokens, h, c = decoder_model.predict(\n",
    "            [target_seq] + states_value)\n",
    "\n",
    "        # Sample a token\n",
    "        sampled_token_index = np.argmax(output_tokens[0, 0, :])\n",
    "        sampled_char = reverse_target_char_index[sampled_token_index]\n",
    "        decoded_sentence += sampled_char\n",
    "\n",
    "        # Exit condition: either hit max length\n",
    "        # or find stop character.\n",
    "        if (sampled_char == '\\n' or len(decoded_sentence) > max_decoder_seq_length):\n",
    "            stop_condition = True\n",
    "\n",
    "        # Update the target sequence (of length 1).\n",
    "        target_seq = np.zeros((1, 1, num_decoder_tokens))\n",
    "        target_seq[0, 0, sampled_token_index] = 1.\n",
    "\n",
    "        # Update states\n",
    "        states_value = [h, c]\n",
    "\n",
    "    return decoded_sentence"
   ]
  },
  {
   "cell_type": "code",
   "execution_count": null,
   "metadata": {
    "id": "4ld3RCYCW5pZ"
   },
   "outputs": [],
   "source": [
    "# Testing\n",
    "for seq_index in range(100):\n",
    "  input_seq = encoder_input_data[seq_index: seq_index+1]\n",
    "  decoded_word = decode_sequence(input_seq)\n",
    "  print('Input word : ', input_texts[seq_index])\n",
    "  print('Output word : ', decoded_word);"
   ]
  },
  {
   "cell_type": "code",
   "execution_count": null,
   "metadata": {
    "id": "LtkcdeffPmtu"
   },
   "outputs": [],
   "source": [
    "# user input\n",
    "user_In = input(\"enter input : \")\n",
    "inp = np.zeros((1,max_encoder_seq_length, num_encoder_tokens), dtype = 'float32')\n",
    "for t, char in enumerate(user_In):\n",
    "  inp[0,t, input_token_index[char]] = 1.\n",
    "decoded_word = decode_sequence(inp)\n",
    "print('Input word : ', user_In)\n",
    "print('Output word : ', decoded_word)"
   ]
  }
 ],
 "metadata": {
  "colab": {
   "name": "Machine_Transliteration.ipynb",
   "private_outputs": true,
   "provenance": [],
   "collapsed_sections": []
  },
  "kernelspec": {
   "name": "python3",
   "display_name": "Python 3"
  },
  "accelerator": "GPU"
 },
 "nbformat": 4,
 "nbformat_minor": 0
}